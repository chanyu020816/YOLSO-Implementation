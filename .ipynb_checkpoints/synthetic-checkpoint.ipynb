{
 "cells": [
  {
   "cell_type": "code",
   "execution_count": 1,
   "id": "480565ba-bbb7-482a-982e-5f3d7251fefa",
   "metadata": {},
   "outputs": [],
   "source": [
    "import cv2"
   ]
  },
  {
   "cell_type": "code",
   "execution_count": 28,
   "id": "a17d36be-1f52-4c9f-af9a-503e83bfa1e3",
   "metadata": {},
   "outputs": [],
   "source": [
    "image = cv2.imread(\"./forsyn/L3.png\")"
   ]
  },
  {
   "cell_type": "code",
   "execution_count": 29,
   "id": "c391374f-275b-4dad-8c41-abb523283ac1",
   "metadata": {},
   "outputs": [
    {
     "data": {
      "text/plain": [
       "(25, 21, 3)"
      ]
     },
     "execution_count": 29,
     "metadata": {},
     "output_type": "execute_result"
    }
   ],
   "source": [
    "image.shape"
   ]
  },
  {
   "cell_type": "code",
   "execution_count": 30,
   "id": "f00a2548-c873-4e5b-a004-9441f5a133e6",
   "metadata": {},
   "outputs": [],
   "source": [
    "bg = cv2.imread(\"./forsyn/base.jpg\")"
   ]
  },
  {
   "cell_type": "code",
   "execution_count": 31,
   "id": "eae96127-4f79-4b10-b5d4-b6c7954c50ee",
   "metadata": {},
   "outputs": [
    {
     "data": {
      "text/plain": [
       "(480, 480, 3)"
      ]
     },
     "execution_count": 31,
     "metadata": {},
     "output_type": "execute_result"
    }
   ],
   "source": [
    "bg.shape"
   ]
  },
  {
   "cell_type": "code",
   "execution_count": 32,
   "id": "f134406c-fb3d-473e-a105-d547d0f9982a",
   "metadata": {},
   "outputs": [],
   "source": [
    "# 符號圖片的尺寸\n",
    "symbol_h, symbol_w = image.shape[:2]\n",
    "\n",
    "# 指定符號圖片在背景圖片上的位置 (左上角座標)\n",
    "x_offset = 50  # 根據需要設置X偏移\n",
    "y_offset = 100  # 根據需要設置Y偏移"
   ]
  },
  {
   "cell_type": "code",
   "execution_count": 33,
   "id": "1870e1c7-f94e-4fe9-a7c0-25c6ef0f72fb",
   "metadata": {},
   "outputs": [],
   "source": [
    "# 創建一個遮罩，選出符號圖片中的非白色部分\n",
    "symbol_gray = cv2.cvtColor(image, cv2.COLOR_BGR2GRAY)\n",
    "_, mask = cv2.threshold(symbol_gray, 254, 255, cv2.THRESH_BINARY_INV)"
   ]
  },
  {
   "cell_type": "code",
   "execution_count": 34,
   "id": "afab7fd9-7352-4fec-9e8f-ab9fc7c203be",
   "metadata": {},
   "outputs": [],
   "source": [
    "# 擴展遮罩以便應用於三個通道\n",
    "mask = cv2.merge([mask, mask, mask])\n"
   ]
  },
  {
   "cell_type": "code",
   "execution_count": 35,
   "id": "7de9c023-ac0a-44db-942d-291ccfeba376",
   "metadata": {},
   "outputs": [],
   "source": [
    "\n",
    "# 定義背景的區域來放置符號圖片\n",
    "roi = bg[y_offset:y_offset+symbol_h, x_offset:x_offset+symbol_w]\n"
   ]
  },
  {
   "cell_type": "code",
   "execution_count": null,
   "id": "652e97d5-644d-4c78-8722-af98d7a499cb",
   "metadata": {},
   "outputs": [],
   "source": []
  },
  {
   "cell_type": "code",
   "execution_count": 36,
   "id": "b6320449-17b1-4bb5-896f-53eb7eec5521",
   "metadata": {},
   "outputs": [],
   "source": [
    "\n",
    "# 使用遮罩來選擇性疊加符號圖片的非白色部分到背景圖片上\n",
    "foreground = cv2.bitwise_and(image, mask)\n",
    "\n"
   ]
  },
  {
   "cell_type": "code",
   "execution_count": 37,
   "id": "6e340a74-59be-4995-88d7-bc0ae16b954c",
   "metadata": {},
   "outputs": [],
   "source": [
    "background_masked = cv2.bitwise_and(roi, cv2.bitwise_not(mask))\n",
    "result = cv2.add(foreground, background_masked)\n"
   ]
  },
  {
   "cell_type": "code",
   "execution_count": 38,
   "id": "e140b19a-3418-497f-8f66-f457c274c4c1",
   "metadata": {},
   "outputs": [
    {
     "data": {
      "text/plain": [
       "True"
      ]
     },
     "execution_count": 38,
     "metadata": {},
     "output_type": "execute_result"
    }
   ],
   "source": [
    "# 將處理後的區域放回背景圖片\n",
    "bg[y_offset:y_offset+symbol_h, x_offset:x_offset+symbol_w] = result\n",
    "\n",
    "# 保存或顯示結果圖片\n",
    "cv2.imwrite('result.jpg', bg)"
   ]
  },
  {
   "cell_type": "code",
   "execution_count": null,
   "id": "27080c8d-ff39-428a-add4-14f225d34f4d",
   "metadata": {},
   "outputs": [],
   "source": []
  }
 ],
 "metadata": {
  "kernelspec": {
   "display_name": "Python 3 (ipykernel)",
   "language": "python",
   "name": "python3"
  },
  "language_info": {
   "codemirror_mode": {
    "name": "ipython",
    "version": 3
   },
   "file_extension": ".py",
   "mimetype": "text/x-python",
   "name": "python",
   "nbconvert_exporter": "python",
   "pygments_lexer": "ipython3",
   "version": "3.10.8"
  }
 },
 "nbformat": 4,
 "nbformat_minor": 5
}
