{
 "cells": [
  {
   "cell_type": "code",
   "execution_count": 1,
   "id": "480565ba-bbb7-482a-982e-5f3d7251fefa",
   "metadata": {},
   "outputs": [],
   "source": [
    "import cv2"
   ]
  },
  {
   "cell_type": "code",
   "execution_count": 28,
   "id": "a17d36be-1f52-4c9f-af9a-503e83bfa1e3",
   "metadata": {},
   "outputs": [],
   "source": [
    "image = cv2.imread(\"./forsyn/L3.png\")"
   ]
  },
  {
   "cell_type": "code",
   "execution_count": 29,
   "id": "c391374f-275b-4dad-8c41-abb523283ac1",
   "metadata": {},
   "outputs": [
    {
     "data": {
      "text/plain": [
       "(25, 21, 3)"
      ]
     },
     "execution_count": 29,
     "metadata": {},
     "output_type": "execute_result"
    }
   ],
   "source": [
    "image.shape"
   ]
  },
  {
   "cell_type": "code",
   "execution_count": 30,
   "id": "f00a2548-c873-4e5b-a004-9441f5a133e6",
   "metadata": {},
   "outputs": [],
   "source": [
    "bg = cv2.imread(\"./forsyn/base.jpg\")"
   ]
  },
  {
   "cell_type": "code",
   "execution_count": 31,
   "id": "eae96127-4f79-4b10-b5d4-b6c7954c50ee",
   "metadata": {},
   "outputs": [
    {
     "data": {
      "text/plain": [
       "(480, 480, 3)"
      ]
     },
     "execution_count": 31,
     "metadata": {},
     "output_type": "execute_result"
    }
   ],
   "source": [
    "bg.shape"
   ]
  },
  {
   "cell_type": "code",
   "execution_count": 32,
   "id": "f134406c-fb3d-473e-a105-d547d0f9982a",
   "metadata": {},
   "outputs": [],
   "source": [
    "# 符號圖片的尺寸\n",
    "symbol_h, symbol_w = image.shape[:2]\n",
    "\n",
    "# 指定符號圖片在背景圖片上的位置 (左上角座標)\n",
    "x_offset = 50  # 根據需要設置X偏移\n",
    "y_offset = 100  # 根據需要設置Y偏移"
   ]
  },
  {
   "cell_type": "code",
   "execution_count": 33,
   "id": "1870e1c7-f94e-4fe9-a7c0-25c6ef0f72fb",
   "metadata": {},
   "outputs": [],
   "source": [
    "# 創建一個遮罩，選出符號圖片中的非白色部分\n",
    "symbol_gray = cv2.cvtColor(image, cv2.COLOR_BGR2GRAY)\n",
    "_, mask = cv2.threshold(symbol_gray, 254, 255, cv2.THRESH_BINARY_INV)"
   ]
  },
  {
   "cell_type": "code",
   "execution_count": 34,
   "id": "afab7fd9-7352-4fec-9e8f-ab9fc7c203be",
   "metadata": {},
   "outputs": [],
   "source": [
    "# 擴展遮罩以便應用於三個通道\n",
    "mask = cv2.merge([mask, mask, mask])\n"
   ]
  },
  {
   "cell_type": "code",
   "execution_count": 35,
   "id": "7de9c023-ac0a-44db-942d-291ccfeba376",
   "metadata": {},
   "outputs": [],
   "source": [
    "\n",
    "# 定義背景的區域來放置符號圖片\n",
    "roi = bg[y_offset:y_offset+symbol_h, x_offset:x_offset+symbol_w]\n"
   ]
  },
  {
   "cell_type": "code",
   "execution_count": null,
   "id": "652e97d5-644d-4c78-8722-af98d7a499cb",
   "metadata": {},
   "outputs": [],
   "source": []
  },
  {
   "cell_type": "code",
   "execution_count": 36,
   "id": "b6320449-17b1-4bb5-896f-53eb7eec5521",
   "metadata": {},
   "outputs": [],
   "source": [
    "\n",
    "# 使用遮罩來選擇性疊加符號圖片的非白色部分到背景圖片上\n",
    "foreground = cv2.bitwise_and(image, mask)\n",
    "\n"
   ]
  },
  {
   "cell_type": "code",
   "execution_count": 37,
   "id": "6e340a74-59be-4995-88d7-bc0ae16b954c",
   "metadata": {},
   "outputs": [],
   "source": [
    "background_masked = cv2.bitwise_and(roi, cv2.bitwise_not(mask))\n",
    "result = cv2.add(foreground, background_masked)\n"
   ]
  },
  {
   "cell_type": "code",
   "execution_count": 38,
   "id": "e140b19a-3418-497f-8f66-f457c274c4c1",
   "metadata": {},
   "outputs": [
    {
     "data": {
      "text/plain": [
       "True"
      ]
     },
     "execution_count": 38,
     "metadata": {},
     "output_type": "execute_result"
    }
   ],
   "source": [
    "# 將處理後的區域放回背景圖片\n",
    "bg[y_offset:y_offset+symbol_h, x_offset:x_offset+symbol_w] = result\n",
    "\n",
    "# 保存或顯示結果圖片\n",
    "cv2.imwrite('result.jpg', bg)"
   ]
  },
  {
   "cell_type": "code",
   "execution_count": null,
   "id": "8959609a-a8fc-4746-9af9-5e1692bbb197",
   "metadata": {},
   "outputs": [],
   "source": []
  },
  {
   "cell_type": "code",
   "execution_count": 70,
   "id": "5497eb25-2204-4d45-b6fc-b1cc19e487d6",
   "metadata": {},
   "outputs": [],
   "source": [
    "x_center = x_offset + (symbol_w / 2)\n",
    "x = x_center / bg.shape[1]"
   ]
  },
  {
   "cell_type": "code",
   "execution_count": 71,
   "id": "61fd47d9-bafa-42c0-a945-e421f7b00d23",
   "metadata": {},
   "outputs": [],
   "source": [
    "y_center = y_offset + ( symbol_h / 2)"
   ]
  },
  {
   "cell_type": "code",
   "execution_count": 72,
   "id": "47968235-be27-48c4-8678-4af83fea1ac5",
   "metadata": {},
   "outputs": [],
   "source": [
    "y = y_center / bg.shape[0]"
   ]
  },
  {
   "cell_type": "code",
   "execution_count": 73,
   "id": "1e715e64-ff33-41c2-8e96-6bb77129a3fd",
   "metadata": {},
   "outputs": [],
   "source": [
    "h = symbol_h / bg.shape[0]"
   ]
  },
  {
   "cell_type": "code",
   "execution_count": 74,
   "id": "fe2634d1-73ba-49af-9fa0-de2b5cea2eed",
   "metadata": {},
   "outputs": [],
   "source": [
    "w = symbol_w / bg.shape[1]"
   ]
  },
  {
   "cell_type": "code",
   "execution_count": 52,
   "id": "879087d1-2e92-4eec-911f-e4db2bd6ca9e",
   "metadata": {},
   "outputs": [
    {
     "data": {
      "text/plain": [
       "(71, 125)"
      ]
     },
     "execution_count": 52,
     "metadata": {},
     "output_type": "execute_result"
    }
   ],
   "source": [
    "(int(x_center), int(y_center))"
   ]
  },
  {
   "cell_type": "code",
   "execution_count": 67,
   "id": "c790f614-feb9-4c28-9bf9-0eafe7e775f5",
   "metadata": {},
   "outputs": [
    {
     "data": {
      "text/plain": [
       "array([[[106, 128, 163],\n",
       "        [106, 128, 163],\n",
       "        [105, 130, 164],\n",
       "        ...,\n",
       "        [112, 144, 173],\n",
       "        [110, 143, 169],\n",
       "        [106, 139, 165]],\n",
       "\n",
       "       [[114, 135, 167],\n",
       "        [114, 135, 166],\n",
       "        [110, 133, 165],\n",
       "        ...,\n",
       "        [108, 141, 167],\n",
       "        [107, 140, 166],\n",
       "        [104, 137, 163]],\n",
       "\n",
       "       [[102, 121, 148],\n",
       "        [110, 130, 155],\n",
       "        [116, 135, 162],\n",
       "        ...,\n",
       "        [104, 137, 163],\n",
       "        [105, 135, 162],\n",
       "        [104, 135, 160]],\n",
       "\n",
       "       ...,\n",
       "\n",
       "       [[103, 132, 163],\n",
       "        [ 99, 126, 153],\n",
       "        [ 80, 100, 118],\n",
       "        ...,\n",
       "        [118, 143, 169],\n",
       "        [114, 141, 168],\n",
       "        [112, 139, 166]],\n",
       "\n",
       "       [[ 92, 120, 154],\n",
       "        [ 88, 115, 142],\n",
       "        [ 62,  82, 100],\n",
       "        ...,\n",
       "        [117, 142, 168],\n",
       "        [114, 141, 168],\n",
       "        [114, 141, 168]],\n",
       "\n",
       "       [[ 85, 113, 147],\n",
       "        [ 82, 109, 136],\n",
       "        [ 56,  73,  92],\n",
       "        ...,\n",
       "        [113, 138, 164],\n",
       "        [112, 139, 166],\n",
       "        [114, 141, 168]]], dtype=uint8)"
      ]
     },
     "execution_count": 67,
     "metadata": {},
     "output_type": "execute_result"
    }
   ],
   "source": [
    "cv2.circle(bg, (50, 100), 3, (255, 0, 0))"
   ]
  },
  {
   "cell_type": "code",
   "execution_count": 69,
   "id": "04347225-ead2-421f-a9e4-e1c841d07777",
   "metadata": {},
   "outputs": [
    {
     "data": {
      "text/plain": [
       "True"
      ]
     },
     "execution_count": 69,
     "metadata": {},
     "output_type": "execute_result"
    }
   ],
   "source": [
    "cv2.imwrite('result5.jpg', bg)"
   ]
  },
  {
   "cell_type": "code",
   "execution_count": 76,
   "id": "e4bc54ce-ec23-4d0b-8078-4560b716d4ff",
   "metadata": {},
   "outputs": [],
   "source": [
    "import random"
   ]
  },
  {
   "cell_type": "code",
   "execution_count": 75,
   "id": "27080c8d-ff39-428a-add4-14f225d34f4d",
   "metadata": {},
   "outputs": [],
   "source": [
    "with open(\"./result.txt\", \"a\") as f:\n",
    "    f.write(f'0,{x},{y},{w},{h}\\n')"
   ]
  },
  {
   "cell_type": "code",
   "execution_count": 86,
   "id": "46215ab3-5d1c-4c42-a8bd-21b5dd3aa2b2",
   "metadata": {},
   "outputs": [
    {
     "data": {
      "text/plain": [
       "1"
      ]
     },
     "execution_count": 86,
     "metadata": {},
     "output_type": "execute_result"
    }
   ],
   "source": [
    "random.randint(0, 2)"
   ]
  },
  {
   "cell_type": "code",
   "execution_count": null,
   "id": "d131e276-2938-4b0b-94c1-10f63dcd34e5",
   "metadata": {},
   "outputs": [],
   "source": []
  }
 ],
 "metadata": {
  "kernelspec": {
   "display_name": "Python 3 (ipykernel)",
   "language": "python",
   "name": "python3"
  },
  "language_info": {
   "codemirror_mode": {
    "name": "ipython",
    "version": 3
   },
   "file_extension": ".py",
   "mimetype": "text/x-python",
   "name": "python",
   "nbconvert_exporter": "python",
   "pygments_lexer": "ipython3",
   "version": "3.10.8"
  }
 },
 "nbformat": 4,
 "nbformat_minor": 5
}
